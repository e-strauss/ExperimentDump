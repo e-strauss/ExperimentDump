{
 "cells": [
  {
   "cell_type": "code",
   "execution_count": 2,
   "id": "initial_id",
   "metadata": {
    "collapsed": true,
    "ExecuteTime": {
     "end_time": "2024-02-23T14:31:24.002399Z",
     "start_time": "2024-02-23T14:31:23.957112134Z"
    }
   },
   "outputs": [
    {
     "data": {
      "text/plain": "array([[0.97916405, 2.22186261, 1.26094173, 1.07956845],\n       [1.1442801 , 1.95018714, 1.31628442, 1.21544279],\n       [0.66049503, 2.03194749, 1.12624047, 1.33593054],\n       [0.82928837, 0.95849897, 0.86454437, 0.65520252],\n       [0.74890641, 1.13226032, 0.96073238, 0.67680475]])"
     },
     "execution_count": 2,
     "metadata": {},
     "output_type": "execute_result"
    }
   ],
   "source": [
    "import numpy as np\n",
    "m = 5\n",
    "n = 6\n",
    "o = 4\n",
    "A = np.random.rand(m, n)\n",
    "B = np.random.rand(n, o)\n",
    "C = A @ B\n",
    "C\n",
    "    "
   ]
  },
  {
   "cell_type": "code",
   "outputs": [
    {
     "name": "stdout",
     "output_type": "stream",
     "text": [
      "(5,)\n",
      "(5,)\n",
      "(5,)\n",
      "(5,)\n",
      "(5,)\n",
      "(5,)\n"
     ]
    }
   ],
   "source": [
    "\n",
    "C2 = 0\n",
    "for i in range(n):\n",
    "    C2 += np.outer(A[:,i], B[i,:])\n",
    "assert np.all(np.isclose(C, C2, rtol=1e-5, atol=1e-5))"
   ],
   "metadata": {
    "collapsed": false,
    "ExecuteTime": {
     "end_time": "2024-02-23T14:38:55.821486608Z",
     "start_time": "2024-02-23T14:38:55.802641532Z"
    }
   },
   "id": "8e8c4baeadb6c065",
   "execution_count": 11
  },
  {
   "cell_type": "code",
   "outputs": [],
   "source": [],
   "metadata": {
    "collapsed": false
   },
   "id": "e344f3a038088096"
  }
 ],
 "metadata": {
  "kernelspec": {
   "display_name": "Python 3",
   "language": "python",
   "name": "python3"
  },
  "language_info": {
   "codemirror_mode": {
    "name": "ipython",
    "version": 2
   },
   "file_extension": ".py",
   "mimetype": "text/x-python",
   "name": "python",
   "nbconvert_exporter": "python",
   "pygments_lexer": "ipython2",
   "version": "2.7.6"
  }
 },
 "nbformat": 4,
 "nbformat_minor": 5
}
