{
 "cells": [
  {
   "cell_type": "code",
   "outputs": [],
   "source": [
    "import numpy as np"
   ],
   "metadata": {
    "collapsed": false,
    "ExecuteTime": {
     "end_time": "2025-01-24T16:05:36.551406Z",
     "start_time": "2025-01-24T16:05:36.464361Z"
    }
   },
   "id": "2196b12cf3833efd",
   "execution_count": 5
  },
  {
   "cell_type": "code",
   "outputs": [],
   "source": [
    "def single_pass_variance(arr):\n",
    "    \"\"\"\n",
    "    Compute single-pass variance approximation for a given array.\n",
    "    \n",
    "    Parameters:\n",
    "        arr (numpy.ndarray): Input array.\n",
    "    \n",
    "    Returns:\n",
    "        tuple: A tuple containing:\n",
    "            - approx_variance (float): Approximate variance of the array.\n",
    "            - meta_data (dict): Metadata containing mean, count, and M2.\n",
    "    \"\"\"\n",
    "    count = 0\n",
    "    mean = 0.0\n",
    "    M2 = 0.0\n",
    "\n",
    "    for x in arr:\n",
    "        count += 1\n",
    "        delta = x - mean\n",
    "        mean += delta / count\n",
    "        delta2 = x - mean\n",
    "        M2 += delta * delta2\n",
    "\n",
    "    approx_variance = M2 / count if count > 1 else 0.0\n",
    "    meta_data = {\"mean\": mean, \"count\": count, \"M2\": M2}\n",
    "\n",
    "    return approx_variance, meta_data"
   ],
   "metadata": {
    "collapsed": true,
    "ExecuteTime": {
     "end_time": "2025-01-24T16:05:37.334942Z",
     "start_time": "2025-01-24T16:05:37.329102Z"
    }
   },
   "id": "initial_id",
   "execution_count": 6
  },
  {
   "cell_type": "code",
   "outputs": [],
   "source": [
    "def combine_variance2(meta1, meta2):\n",
    "    \"\"\"\n",
    "    Combine two variance approximations using their metadata.\n",
    "    Supports positive and negative counts.\n",
    "\n",
    "    Parameters:\n",
    "        meta1 (dict): Metadata of the first array.\n",
    "        meta2 (dict): Metadata of the second array (count can be negative for removal).\n",
    "\n",
    "    Returns:\n",
    "        tuple: A tuple containing:\n",
    "            - combined_variance (float): Combined variance of the two arrays.\n",
    "            - combined_meta (dict): Metadata containing combined mean, count, and M2.\n",
    "    \"\"\"\n",
    "    count1, mean1, M21 = meta1[\"count\"], meta1[\"mean\"], meta1[\"M2\"]\n",
    "    count2, mean2, M22 = meta2[\"count\"], meta2[\"mean\"], meta2[\"M2\"]\n",
    "\n",
    "    combined_count = count1 + count2\n",
    "    delta = mean2 - mean1\n",
    "\n",
    "    # Handle edge cases where the combined count is invalid\n",
    "    if combined_count <= 0:\n",
    "        # If the combined count is zero or negative, return zeroed metadata\n",
    "        return 0.0, {\"mean\": 0.0, \"count\": 0, \"M2\": 0.0}\n",
    "\n",
    "    combined_mean = (count1 * mean1 + count2 * mean2) / combined_count\n",
    "    combined_M2 = M21 + M22 + delta ** 2 * count1 * count2 / combined_count\n",
    "\n",
    "    # Compute variance only if there are enough samples\n",
    "    combined_variance = combined_M2 / combined_count if combined_count > 1 else 0.0\n",
    "    combined_meta = {\"mean\": combined_mean, \"count\": combined_count, \"M2\": combined_M2}\n",
    "\n",
    "    return combined_variance, combined_meta\n"
   ],
   "metadata": {
    "collapsed": false,
    "ExecuteTime": {
     "end_time": "2025-01-24T16:34:29.228384Z",
     "start_time": "2025-01-24T16:34:29.219767Z"
    }
   },
   "id": "a32a48a55194dfc5",
   "execution_count": 25
  },
  {
   "cell_type": "code",
   "outputs": [],
   "source": [
    "def aggregate_variances(arrays):\n",
    "    \"\"\"\n",
    "    Compute aggregated variance for a list of arrays.\n",
    "    \n",
    "    Parameters:\n",
    "        arrays (list of numpy.ndarray): List of input arrays.\n",
    "    \n",
    "    Returns:\n",
    "        float: Aggregated variance across all arrays.\n",
    "    \"\"\"\n",
    "    combined_meta = {\"mean\": 0.0, \"count\": 0, \"M2\": 0.0}\n",
    "\n",
    "    for arr in arrays:\n",
    "        var, meta = single_pass_variance(arr)\n",
    "        print(var)\n",
    "        var, combined_meta = combine_variance2(combined_meta, meta)\n",
    "        \n",
    "\n",
    "    aggregated_variance = combined_meta[\"M2\"] / combined_meta[\"count\"] if combined_meta[\"count\"] > 1 else 0.0\n",
    "    return aggregated_variance, combined_meta"
   ],
   "metadata": {
    "collapsed": false,
    "ExecuteTime": {
     "end_time": "2025-01-24T17:20:03.922229Z",
     "start_time": "2025-01-24T17:20:03.916421Z"
    }
   },
   "id": "2ed91a9f0872519d",
   "execution_count": 59
  },
  {
   "cell_type": "code",
   "outputs": [],
   "source": [
    "def remove_variances(combined_meta, arrays):\n",
    "    \"\"\"\n",
    "    Compute aggregated variance for a list of arrays.\n",
    "    \n",
    "    Parameters:\n",
    "        arrays (list of numpy.ndarray): List of input arrays.\n",
    "    \n",
    "    Returns:\n",
    "        float: Aggregated variance across all arrays.\n",
    "    \"\"\"\n",
    "    for arr in arrays:\n",
    "        var, meta = single_pass_variance(arr)\n",
    "        print(var) \n",
    "        meta = {\"mean\": meta[\"mean\"], \"count\": meta[\"count\"]*-1, \"M2\": meta[\"M2\"]}\n",
    "        var, combined_meta = combine_variance2(combined_meta, meta)\n",
    "        #print(var)\n",
    "        \n",
    "\n",
    "    aggregated_variance = combined_meta[\"M2\"] / combined_meta[\"count\"] if combined_meta[\"count\"] > 1 else 0.0\n",
    "    return aggregated_variance"
   ],
   "metadata": {
    "collapsed": false,
    "ExecuteTime": {
     "end_time": "2025-01-24T17:19:36.815528Z",
     "start_time": "2025-01-24T17:19:36.810091Z"
    }
   },
   "id": "251e4cb2581a5874",
   "execution_count": 57
  },
  {
   "cell_type": "code",
   "outputs": [],
   "source": [
    "def create_random_arrays_with_stats(configs):\n",
    "    arrays = []\n",
    "\n",
    "    for mean, var, size in configs:\n",
    "        array = np.random.normal(mean, var, size)  # Generate an array of random numbers in [0, 1)\n",
    "        arrays.append(array)\n",
    "    return arrays"
   ],
   "metadata": {
    "collapsed": false,
    "ExecuteTime": {
     "end_time": "2025-01-24T16:34:33.725404Z",
     "start_time": "2025-01-24T16:34:33.719196Z"
    }
   },
   "id": "aabc3e4a8b25eb2e",
   "execution_count": 28
  },
  {
   "cell_type": "code",
   "outputs": [],
   "source": [
    "arrays = create_random_arrays_with_stats([(3, 2, 100), (2, 4, 100), (6, 5, 100), (10, 1, 100),  (10, 1, 100),\n",
    "                                          (8, 0.5, 100), (3, 10, 100), (20, 5, 100), (10, 1, 100), (10, 0.5, 100),])"
   ],
   "metadata": {
    "collapsed": false,
    "ExecuteTime": {
     "end_time": "2025-01-24T16:54:22.076759Z",
     "start_time": "2025-01-24T16:54:22.072751Z"
    }
   },
   "id": "2438f9c12c57db1e",
   "execution_count": 51
  },
  {
   "cell_type": "code",
   "outputs": [],
   "source": [],
   "metadata": {
    "collapsed": false
   },
   "id": "18e6f6aa06f1c75e"
  },
  {
   "cell_type": "code",
   "outputs": [
    {
     "name": "stdout",
     "output_type": "stream",
     "text": [
      "3.9490985200336097\n",
      "11.931223298044271\n",
      "25.73078695272483\n",
      "1.0851983423957463\n",
      "0.992166696309802\n",
      "0.29179189548427603\n",
      "120.38572704450824\n",
      "18.59847634062613\n",
      "1.0568454066942925\n",
      "0.19658065004909278\n"
     ]
    },
    {
     "data": {
      "text/plain": "np.float64(43.952082070543526)"
     },
     "execution_count": 60,
     "metadata": {},
     "output_type": "execute_result"
    }
   ],
   "source": [
    "var, meta = aggregate_variances(arrays)\n",
    "var"
   ],
   "metadata": {
    "collapsed": false,
    "ExecuteTime": {
     "end_time": "2025-01-24T17:20:06.980450Z",
     "start_time": "2025-01-24T17:20:06.973766Z"
    }
   },
   "id": "bd56d32992acd502",
   "execution_count": 60
  },
  {
   "cell_type": "code",
   "outputs": [
    {
     "name": "stdout",
     "output_type": "stream",
     "text": [
      "3.94909852003361 2.7332805884529408\n",
      "11.931223298044278 2.004909375806807\n",
      "25.73078695272482 5.5702351731015\n",
      "1.0851983423957463 9.973740887127002\n",
      "0.9921666963098019 10.093332092121223\n",
      "0.29179189548427603 7.969016493224489\n",
      "120.38572704450817 3.9751851312637068\n",
      "18.59847634062613 20.40008587671473\n",
      "1.056845406694292 10.027983205534388\n",
      "0.19658065004909267 10.035070029743183\n",
      "Aggregated Variance: 43.952082070543526\n"
     ]
    }
   ],
   "source": [
    "merged = np.zeros(sum([len(arr) for arr in arrays]))\n",
    "index = 0\n",
    "for arr in arrays:\n",
    "    print(arr.var(), arr.mean())\n",
    "    end_idx = index + len(arr)\n",
    "    merged[index:end_idx] = arr\n",
    "    index = end_idx\n",
    "print(f\"Aggregated Variance: {merged.var()}\")"
   ],
   "metadata": {
    "collapsed": false,
    "ExecuteTime": {
     "end_time": "2025-01-24T17:21:20.287934Z",
     "start_time": "2025-01-24T17:21:20.281411Z"
    }
   },
   "id": "56ba85653dc15965",
   "execution_count": 62
  },
  {
   "cell_type": "code",
   "outputs": [
    {
     "name": "stdout",
     "output_type": "stream",
     "text": [
      "45.47850194330586\n",
      "45.97994955977115\n",
      "53.36440242959675\n",
      "62.41129552067168\n",
      "75.06687969784686\n",
      "91.93391843553991\n",
      "140.08508680462984\n",
      "183.59119467426794\n",
      "368.2392096436914\n",
      "0.0\n"
     ]
    },
    {
     "data": {
      "text/plain": "0.0"
     },
     "execution_count": 54,
     "metadata": {},
     "output_type": "execute_result"
    }
   ],
   "source": [
    "remove_variances(meta, arrays)"
   ],
   "metadata": {
    "collapsed": false,
    "ExecuteTime": {
     "end_time": "2025-01-24T16:54:56.807238Z",
     "start_time": "2025-01-24T16:54:56.800979Z"
    }
   },
   "id": "5131c3459cf7ebe",
   "execution_count": 54
  },
  {
   "cell_type": "code",
   "outputs": [
    {
     "name": "stdout",
     "output_type": "stream",
     "text": [
      "44.600924494409504\n",
      "42.00986910525167\n",
      "41.4755142093674\n",
      "48.17919314960552\n",
      "57.591490174043535\n",
      "69.9437855830436\n",
      "30.507758304962614\n",
      "0.626725584141034\n",
      "0.19658065004909267\n",
      "END\n"
     ]
    }
   ],
   "source": [
    "for arr in arrays:\n",
    "    n = len(arr)\n",
    "    merged = merged[n:]\n",
    "    if len(merged) > 0:\n",
    "        print(merged.var(), merged.mean())\n",
    "    else:\n",
    "        print(\"END\")"
   ],
   "metadata": {
    "collapsed": false,
    "ExecuteTime": {
     "end_time": "2025-01-24T16:55:11.150559Z",
     "start_time": "2025-01-24T16:55:11.143614Z"
    }
   },
   "id": "cd2adcbfc9fda1ad",
   "execution_count": 55
  },
  {
   "cell_type": "code",
   "outputs": [],
   "source": [],
   "metadata": {
    "collapsed": false
   },
   "id": "4dfe7e9c23b91061"
  }
 ],
 "metadata": {
  "kernelspec": {
   "display_name": "Python 3",
   "language": "python",
   "name": "python3"
  },
  "language_info": {
   "codemirror_mode": {
    "name": "ipython",
    "version": 2
   },
   "file_extension": ".py",
   "mimetype": "text/x-python",
   "name": "python",
   "nbconvert_exporter": "python",
   "pygments_lexer": "ipython2",
   "version": "2.7.6"
  }
 },
 "nbformat": 4,
 "nbformat_minor": 5
}
