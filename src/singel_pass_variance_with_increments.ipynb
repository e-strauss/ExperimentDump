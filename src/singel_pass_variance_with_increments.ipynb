{
 "cells": [
  {
   "cell_type": "code",
   "outputs": [],
   "source": [
    "import numpy as np"
   ],
   "metadata": {
    "collapsed": false,
    "ExecuteTime": {
     "end_time": "2025-01-30T10:35:13.935022Z",
     "start_time": "2025-01-30T10:35:13.781527Z"
    }
   },
   "id": "2196b12cf3833efd",
   "execution_count": 1
  },
  {
   "cell_type": "code",
   "outputs": [],
   "source": [
    "def single_pass_variance(arr):\n",
    "    count = 0\n",
    "    mean = 0.0\n",
    "    M2 = 0.0\n",
    "\n",
    "    for x in arr:\n",
    "        count += 1\n",
    "        delta = x - mean\n",
    "        mean += delta / count\n",
    "        delta2 = x - mean\n",
    "        M2 += delta * delta2\n",
    "\n",
    "    approx_variance = M2 / count if count > 1 else 0.0\n",
    "    meta_data = {\"mean\": mean, \"count\": count, \"M2\": M2}\n",
    "\n",
    "    return approx_variance, meta_data"
   ],
   "metadata": {
    "collapsed": true,
    "ExecuteTime": {
     "end_time": "2025-01-30T10:35:13.941993Z",
     "start_time": "2025-01-30T10:35:13.937166Z"
    }
   },
   "id": "initial_id",
   "execution_count": 2
  },
  {
   "cell_type": "code",
   "outputs": [],
   "source": [
    "def combine_variance(meta1, meta2):\n",
    "    count1, mean1, M21 = meta1[\"count\"], meta1[\"mean\"], meta1[\"M2\"]\n",
    "    count2, mean2, M22 = meta2[\"count\"], meta2[\"mean\"], meta2[\"M2\"]\n",
    "\n",
    "    combined_count = count1 + count2\n",
    "    delta = mean2 - mean1\n",
    "\n",
    "    # Handle edge cases where the combined count is invalid\n",
    "    if combined_count <= 0:\n",
    "        # If the combined count is zero or negative, return zeroed metadata\n",
    "        return 0.0, {\"mean\": 0.0, \"count\": 0, \"M2\": 0.0}\n",
    "\n",
    "    combined_mean = (count1 * mean1 + count2 * mean2) / combined_count\n",
    "    combined_M2 = M21 + M22 + delta ** 2 * count1 * count2 / combined_count\n",
    "\n",
    "    # Compute variance only if there are enough samples\n",
    "    combined_variance = combined_M2 / combined_count if combined_count > 1 else 0.0\n",
    "    combined_meta_ = {\"mean\": combined_mean, \"count\": combined_count, \"M2\": combined_M2}\n",
    "\n",
    "    return combined_variance, combined_meta_\n"
   ],
   "metadata": {
    "collapsed": false,
    "ExecuteTime": {
     "end_time": "2025-01-30T10:35:13.948550Z",
     "start_time": "2025-01-30T10:35:13.943120Z"
    }
   },
   "id": "a32a48a55194dfc5",
   "execution_count": 3
  },
  {
   "cell_type": "code",
   "outputs": [],
   "source": [
    "configs = [(3, 2, 100), (2, 4, 100), (6, 5, 100), (10, 1, 100),  (10, 1, 100),\n",
    "           (8, 0.5, 100), (3, 10, 100), (20, 5, 100), (10, 1, 100), (10, 0.5, 100),]\n",
    "arrays = []\n",
    "for mean, v, size in configs:\n",
    "    array = np.random.normal(mean, v, size)\n",
    "    arrays.append(array)"
   ],
   "metadata": {
    "collapsed": false,
    "ExecuteTime": {
     "end_time": "2025-01-30T10:35:13.966701Z",
     "start_time": "2025-01-30T10:35:13.949780Z"
    }
   },
   "id": "2438f9c12c57db1e",
   "execution_count": 4
  },
  {
   "cell_type": "code",
   "outputs": [
    {
     "name": "stdout",
     "output_type": "stream",
     "text": [
      "current arrays' var: 3.53123956760863\n",
      "current arrays' var: 14.709870449407413\n",
      "current arrays' var: 20.99048340919769\n",
      "current arrays' var: 1.1376232586273503\n",
      "current arrays' var: 1.0299167510778449\n",
      "current arrays' var: 0.24311824515259578\n",
      "current arrays' var: 102.31056122915547\n",
      "current arrays' var: 21.46079199880259\n",
      "current arrays' var: 1.1674683619839121\n",
      "current arrays' var: 0.21279694572204216\n",
      "42.77890708495115\n"
     ]
    }
   ],
   "source": [
    "combined_meta = {\"mean\": 0.0, \"count\": 0, \"M2\": 0.0}\n",
    "for arr in arrays:\n",
    "    var, meta = single_pass_variance(arr)\n",
    "    print(\"current arrays' var:\", var)\n",
    "    var, combined_meta = combine_variance(combined_meta, meta)\n",
    "print(var)"
   ],
   "metadata": {
    "collapsed": false,
    "ExecuteTime": {
     "end_time": "2025-01-30T10:35:13.973678Z",
     "start_time": "2025-01-30T10:35:13.969268Z"
    }
   },
   "id": "bd56d32992acd502",
   "execution_count": 5
  },
  {
   "cell_type": "code",
   "outputs": [
    {
     "name": "stdout",
     "output_type": "stream",
     "text": [
      "current arrays' var: {} | mean: {} 3.531239567608631 2.9211137264092586\n",
      "current arrays' var: {} | mean: {} 14.709870449407413 1.366164067817935\n",
      "current arrays' var: {} | mean: {} 20.99048340919769 6.370730949533316\n",
      "current arrays' var: {} | mean: {} 1.1376232586273505 9.977346263949812\n",
      "current arrays' var: {} | mean: {} 1.029916751077845 10.037239441494103\n",
      "current arrays' var: {} | mean: {} 0.24311824515259636 7.99605362804817\n",
      "current arrays' var: {} | mean: {} 102.31056122915541 2.841312120877409\n",
      "current arrays' var: {} | mean: {} 21.460791998802588 20.097260461568816\n",
      "current arrays' var: {} | mean: {} 1.1674683619839126 9.960200874248843\n",
      "current arrays' var: {} | mean: {} 0.212796945722042 9.979575971499772\n",
      "Aggregated Variance: 42.778907084951115\n"
     ]
    }
   ],
   "source": [
    "merged = np.zeros(sum([len(arr) for arr in arrays]))\n",
    "index = 0\n",
    "for arr in arrays:\n",
    "    print(\"current arrays' var: {} | mean: {}\", arr.var(), arr.mean())\n",
    "    end_idx = index + len(arr)\n",
    "    merged[index:end_idx] = arr\n",
    "    index = end_idx\n",
    "print(f\"Aggregated Variance: {merged.var()}\")"
   ],
   "metadata": {
    "collapsed": false,
    "ExecuteTime": {
     "end_time": "2025-01-30T10:35:13.980030Z",
     "start_time": "2025-01-30T10:35:13.974927Z"
    }
   },
   "id": "56ba85653dc15965",
   "execution_count": 6
  },
  {
   "cell_type": "code",
   "outputs": [
    {
     "name": "stdout",
     "output_type": "stream",
     "text": [
      "43.758225368109414 8.736209308782021\n",
      "39.750861894123474 9.657464963902532\n",
      "40.66722282360894 10.126998394526707\n",
      "47.25113468662522 10.151940416289523\n",
      "56.49222075846614 10.174880611248607\n",
      "69.0709691921938 10.719587357048717\n",
      "30.405673759042088 13.345679102439155\n",
      "0.690226502451419 9.969888422874321\n",
      "0.21279694572218402 9.979575971499795\n",
      "0.0 0.0\n"
     ]
    }
   ],
   "source": [
    "for arr in arrays:\n",
    "    var, meta = single_pass_variance(arr)\n",
    "    meta = {\"mean\": meta[\"mean\"], \"count\": meta[\"count\"]*-1, \"M2\": meta[\"M2\"]*-1}\n",
    "    var, combined_meta = combine_variance(combined_meta, meta)\n",
    "    print(var, combined_meta[\"mean\"])"
   ],
   "metadata": {
    "collapsed": false,
    "ExecuteTime": {
     "end_time": "2025-01-30T10:35:13.985834Z",
     "start_time": "2025-01-30T10:35:13.981105Z"
    }
   },
   "id": "5131c3459cf7ebe",
   "execution_count": 7
  },
  {
   "cell_type": "code",
   "outputs": [
    {
     "name": "stdout",
     "output_type": "stream",
     "text": [
      "43.758225368109365 8.73620930878202 900\n",
      "39.75086189412344 9.65746496390253 800\n",
      "40.6672228236089 10.126998394526703 700\n",
      "47.251134686625164 10.151940416289518 600\n",
      "56.49222075846606 10.174880611248602 500\n",
      "69.07096919219372 10.719587357048708 400\n",
      "30.405673759042056 13.345679102439144 300\n",
      "0.690226502451348 9.969888422874307 200\n",
      "0.212796945722042 9.979575971499772 100\n",
      "END\n"
     ]
    }
   ],
   "source": [
    "for arr in arrays:\n",
    "    n = len(arr)\n",
    "    merged = merged[n:]\n",
    "    if len(merged) > 0:\n",
    "        print(merged.var(), merged.mean(), len(merged))\n",
    "    else:\n",
    "        print(\"END\")"
   ],
   "metadata": {
    "collapsed": false,
    "ExecuteTime": {
     "end_time": "2025-01-30T10:35:13.992037Z",
     "start_time": "2025-01-30T10:35:13.987134Z"
    }
   },
   "id": "cd2adcbfc9fda1ad",
   "execution_count": 8
  },
  {
   "cell_type": "code",
   "outputs": [
    {
     "name": "stdout",
     "output_type": "stream",
     "text": [
      "(np.float64(3.53123956760863), {'mean': np.float64(2.92111372640926), 'count': 100, 'M2': np.float64(353.123956760863)})\n",
      "{'mean': np.float64(1.0547895772439146), 'count': 1, 'M2': np.float64(0.0)}\n",
      "{'mean': np.float64(2.9211137264092613), 'count': 100, 'M2': np.float64(353.12395676086305)}\n"
     ]
    }
   ],
   "source": [
    "test_arr = arrays[0]\n",
    "print(single_pass_variance(test_arr))\n",
    "var, agg_meta = single_pass_variance(test_arr[:1])\n",
    "print(agg_meta)\n",
    "for i in range(1, len(test_arr)):\n",
    "    _, meta = single_pass_variance(test_arr[i:i+1])\n",
    "    var, agg_meta = combine_variance(agg_meta, meta)\n",
    "print(agg_meta)"
   ],
   "metadata": {
    "collapsed": false,
    "ExecuteTime": {
     "end_time": "2025-01-30T10:35:52.855693Z",
     "start_time": "2025-01-30T10:35:52.851291Z"
    }
   },
   "id": "4dfe7e9c23b91061",
   "execution_count": 10
  },
  {
   "cell_type": "code",
   "outputs": [
    {
     "data": {
      "text/plain": "(array([ 0.,  1.,  2.,  3.,  4.,  5.,  6.,  7.,  8.,  9., 10.]),\n np.float64(10.0))"
     },
     "execution_count": 16,
     "metadata": {},
     "output_type": "execute_result"
    }
   ],
   "source": [
    "test = np.linspace(0, 10, 11)\n",
    "test, test.var()"
   ],
   "metadata": {
    "collapsed": false,
    "ExecuteTime": {
     "end_time": "2025-01-30T12:56:59.982834Z",
     "start_time": "2025-01-30T12:56:59.977752Z"
    }
   },
   "id": "711ad452680ad252",
   "execution_count": 16
  },
  {
   "cell_type": "code",
   "outputs": [],
   "source": [],
   "metadata": {
    "collapsed": false
   },
   "id": "57c32863fccf1dd1"
  }
 ],
 "metadata": {
  "kernelspec": {
   "display_name": "Python 3",
   "language": "python",
   "name": "python3"
  },
  "language_info": {
   "codemirror_mode": {
    "name": "ipython",
    "version": 2
   },
   "file_extension": ".py",
   "mimetype": "text/x-python",
   "name": "python",
   "nbconvert_exporter": "python",
   "pygments_lexer": "ipython2",
   "version": "2.7.6"
  }
 },
 "nbformat": 4,
 "nbformat_minor": 5
}
