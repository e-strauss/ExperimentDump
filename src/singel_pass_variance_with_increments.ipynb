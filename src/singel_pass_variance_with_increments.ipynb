{
 "cells": [
  {
   "cell_type": "code",
   "outputs": [],
   "source": [
    "import numpy as np"
   ],
   "metadata": {
    "collapsed": false,
    "ExecuteTime": {
     "end_time": "2025-01-30T09:46:16.140784Z",
     "start_time": "2025-01-30T09:46:16.058686Z"
    }
   },
   "id": "2196b12cf3833efd",
   "execution_count": 1
  },
  {
   "cell_type": "code",
   "outputs": [],
   "source": [
    "def single_pass_variance(arr):\n",
    "    count = 0\n",
    "    mean = 0.0\n",
    "    M2 = 0.0\n",
    "\n",
    "    for x in arr:\n",
    "        count += 1\n",
    "        delta = x - mean\n",
    "        mean += delta / count\n",
    "        delta2 = x - mean\n",
    "        M2 += delta * delta2\n",
    "\n",
    "    approx_variance = M2 / count if count > 1 else 0.0\n",
    "    meta_data = {\"mean\": mean, \"count\": count, \"M2\": M2}\n",
    "\n",
    "    return approx_variance, meta_data"
   ],
   "metadata": {
    "collapsed": true,
    "ExecuteTime": {
     "end_time": "2025-01-30T09:46:16.182568Z",
     "start_time": "2025-01-30T09:46:16.158212Z"
    }
   },
   "id": "initial_id",
   "execution_count": 2
  },
  {
   "cell_type": "code",
   "outputs": [],
   "source": [
    "def combine_variance(meta1, meta2):\n",
    "    count1, mean1, M21 = meta1[\"count\"], meta1[\"mean\"], meta1[\"M2\"]\n",
    "    count2, mean2, M22 = meta2[\"count\"], meta2[\"mean\"], meta2[\"M2\"]\n",
    "\n",
    "    combined_count = count1 + count2\n",
    "    delta = mean2 - mean1\n",
    "\n",
    "    # Handle edge cases where the combined count is invalid\n",
    "    if combined_count <= 0:\n",
    "        # If the combined count is zero or negative, return zeroed metadata\n",
    "        return 0.0, {\"mean\": 0.0, \"count\": 0, \"M2\": 0.0}\n",
    "\n",
    "    combined_mean = (count1 * mean1 + count2 * mean2) / combined_count\n",
    "    combined_M2 = M21 + M22 + delta ** 2 * count1 * count2 / combined_count\n",
    "\n",
    "    # Compute variance only if there are enough samples\n",
    "    combined_variance = combined_M2 / combined_count if combined_count > 1 else 0.0\n",
    "    combined_meta_ = {\"mean\": combined_mean, \"count\": combined_count, \"M2\": combined_M2}\n",
    "\n",
    "    return combined_variance, combined_meta_\n"
   ],
   "metadata": {
    "collapsed": false,
    "ExecuteTime": {
     "end_time": "2025-01-30T09:46:16.220073Z",
     "start_time": "2025-01-30T09:46:16.196350Z"
    }
   },
   "id": "a32a48a55194dfc5",
   "execution_count": 3
  },
  {
   "cell_type": "code",
   "outputs": [],
   "source": [
    "configs = [(3, 2, 100), (2, 4, 100), (6, 5, 100), (10, 1, 100),  (10, 1, 100),\n",
    "           (8, 0.5, 100), (3, 10, 100), (20, 5, 100), (10, 1, 100), (10, 0.5, 100),]\n",
    "arrays = []\n",
    "for mean, v, size in configs:\n",
    "    array = np.random.normal(mean, v, size)\n",
    "    arrays.append(array)"
   ],
   "metadata": {
    "collapsed": false,
    "ExecuteTime": {
     "end_time": "2025-01-30T09:46:16.240063Z",
     "start_time": "2025-01-30T09:46:16.228452Z"
    }
   },
   "id": "2438f9c12c57db1e",
   "execution_count": 4
  },
  {
   "cell_type": "code",
   "outputs": [
    {
     "name": "stdout",
     "output_type": "stream",
     "text": [
      "current arrays' var: 3.718343484803066\n",
      "current arrays' var: 15.97092367835651\n",
      "current arrays' var: 26.982244945836186\n",
      "current arrays' var: 0.9837279269261521\n",
      "current arrays' var: 1.0025548598340166\n",
      "current arrays' var: 0.26652480289495173\n",
      "current arrays' var: 104.89735846928266\n",
      "current arrays' var: 25.814295480783535\n",
      "current arrays' var: 1.0869866771464165\n",
      "current arrays' var: 0.258468334481252\n",
      "40.14453728518154\n"
     ]
    }
   ],
   "source": [
    "combined_meta = {\"mean\": 0.0, \"count\": 0, \"M2\": 0.0}\n",
    "for arr in arrays:\n",
    "    var, meta = single_pass_variance(arr)\n",
    "    print(\"current arrays' var:\", var)\n",
    "    var, combined_meta = combine_variance(combined_meta, meta)\n",
    "print(var)"
   ],
   "metadata": {
    "collapsed": false,
    "ExecuteTime": {
     "end_time": "2025-01-30T09:46:16.271552Z",
     "start_time": "2025-01-30T09:46:16.242224Z"
    }
   },
   "id": "bd56d32992acd502",
   "execution_count": 5
  },
  {
   "cell_type": "code",
   "outputs": [
    {
     "name": "stdout",
     "output_type": "stream",
     "text": [
      "current arrays' var: {} | mean: {} 3.7183434848030674 3.052283344199052\n",
      "current arrays' var: {} | mean: {} 15.97092367835651 2.1745184667572564\n",
      "current arrays' var: {} | mean: {} 26.98224494583617 5.497054991476892\n",
      "current arrays' var: {} | mean: {} 0.9837279269261521 10.043701445489491\n",
      "current arrays' var: {} | mean: {} 1.0025548598340164 9.942178391025548\n",
      "current arrays' var: {} | mean: {} 0.26652480289495173 7.996005197232475\n",
      "current arrays' var: {} | mean: {} 104.89735846928268 2.7847963505271527\n",
      "current arrays' var: {} | mean: {} 25.81429548078353 18.618266495788863\n",
      "current arrays' var: {} | mean: {} 1.0869866771464156 9.924722633397502\n",
      "current arrays' var: {} | mean: {} 0.2584683344812521 10.045586227692215\n",
      "Aggregated Variance: 40.14453728518155\n"
     ]
    }
   ],
   "source": [
    "merged = np.zeros(sum([len(arr) for arr in arrays]))\n",
    "index = 0\n",
    "for arr in arrays:\n",
    "    print(\"current arrays' var: {} | mean: {}\", arr.var(), arr.mean())\n",
    "    end_idx = index + len(arr)\n",
    "    merged[index:end_idx] = arr\n",
    "    index = end_idx\n",
    "print(f\"Aggregated Variance: {merged.var()}\")"
   ],
   "metadata": {
    "collapsed": false,
    "ExecuteTime": {
     "end_time": "2025-01-30T09:46:16.272489Z",
     "start_time": "2025-01-30T09:46:16.263388Z"
    }
   },
   "id": "56ba85653dc15965",
   "execution_count": 6
  },
  {
   "cell_type": "code",
   "outputs": [
    {
     "name": "stdout",
     "output_type": "stream",
     "text": [
      "41.16000956237442 8.55853668882082\n",
      "38.577376580114844 9.356538966578764\n",
      "37.80188655985781 9.907893820164746\n",
      "43.93466005485547 9.885259215943956\n",
      "52.52030354366168 9.873875380927634\n",
      "64.48174934547484 10.343342926851424\n",
      "25.618045705777394 12.862858452292848\n",
      "0.676379507920351 9.98515443054484\n",
      "0.2584683344813707 10.045586227692182\n",
      "0.0 0.0\n"
     ]
    }
   ],
   "source": [
    "for arr in arrays:\n",
    "    var, meta = single_pass_variance(arr)\n",
    "    meta = {\"mean\": meta[\"mean\"], \"count\": meta[\"count\"]*-1, \"M2\": meta[\"M2\"]*-1}\n",
    "    var, combined_meta = combine_variance(combined_meta, meta)\n",
    "    print(var, combined_meta[\"mean\"])"
   ],
   "metadata": {
    "collapsed": false,
    "ExecuteTime": {
     "end_time": "2025-01-30T09:46:16.280400Z",
     "start_time": "2025-01-30T09:46:16.272350Z"
    }
   },
   "id": "5131c3459cf7ebe",
   "execution_count": 7
  },
  {
   "cell_type": "code",
   "outputs": [
    {
     "name": "stdout",
     "output_type": "stream",
     "text": [
      "41.16000956237442 8.558536688820823 900\n",
      "38.57737658011484 9.356538966578768 800\n",
      "37.8018865598578 9.90789382016475 700\n",
      "43.93466005485545 9.885259215943961 600\n",
      "52.52030354366167 9.873875380927641 500\n",
      "64.48174934547481 10.343342926851433 400\n",
      "25.618045705777288 12.86285845229286 300\n",
      "0.6763795079202933 9.98515443054486 200\n",
      "0.2584683344812521 10.045586227692215 100\n",
      "END\n"
     ]
    }
   ],
   "source": [
    "for arr in arrays:\n",
    "    n = len(arr)\n",
    "    merged = merged[n:]\n",
    "    if len(merged) > 0:\n",
    "        print(merged.var(), merged.mean(), len(merged))\n",
    "    else:\n",
    "        print(\"END\")"
   ],
   "metadata": {
    "collapsed": false,
    "ExecuteTime": {
     "end_time": "2025-01-30T09:46:16.293129Z",
     "start_time": "2025-01-30T09:46:16.279015Z"
    }
   },
   "id": "cd2adcbfc9fda1ad",
   "execution_count": 8
  },
  {
   "cell_type": "code",
   "outputs": [
    {
     "name": "stdout",
     "output_type": "stream",
     "text": [
      "(3.718343484803066, {'mean': 3.0522833441990525, 'count': 100, 'M2': 371.83434848030663})\n",
      "3.718343484803067\n"
     ]
    }
   ],
   "source": [
    "test_arr = arrays[0]\n",
    "print(single_pass_variance(test_arr))\n",
    "var, agg_meta = single_pass_variance(test_arr[:1])\n",
    "for i in range(1, len(test_arr)):\n",
    "    _, meta = single_pass_variance(test_arr[i:i+1])\n",
    "    var, agg_meta = combine_variance(agg_meta, meta)\n",
    "print(var)"
   ],
   "metadata": {
    "collapsed": false,
    "ExecuteTime": {
     "end_time": "2025-01-30T09:46:16.293889Z",
     "start_time": "2025-01-30T09:46:16.285080Z"
    }
   },
   "id": "4dfe7e9c23b91061",
   "execution_count": 9
  }
 ],
 "metadata": {
  "kernelspec": {
   "display_name": "Python 3",
   "language": "python",
   "name": "python3"
  },
  "language_info": {
   "codemirror_mode": {
    "name": "ipython",
    "version": 2
   },
   "file_extension": ".py",
   "mimetype": "text/x-python",
   "name": "python",
   "nbconvert_exporter": "python",
   "pygments_lexer": "ipython2",
   "version": "2.7.6"
  }
 },
 "nbformat": 4,
 "nbformat_minor": 5
}
