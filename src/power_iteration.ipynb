{
 "cells": [
  {
   "cell_type": "code",
   "execution_count": 1,
   "id": "initial_id",
   "metadata": {
    "collapsed": true,
    "ExecuteTime": {
     "end_time": "2025-03-24T18:37:55.081625Z",
     "start_time": "2025-03-24T18:37:55.031387Z"
    }
   },
   "outputs": [],
   "source": ""
  },
  {
   "cell_type": "code",
   "outputs": [
    {
     "name": "stdout",
     "output_type": "stream",
     "text": [
      "Generated matrix A:\n",
      "[[-45.76359154   9.80683409  38.6704949    7.13419489]\n",
      " [-21.30285986   7.97699321  15.16197295   3.52787002]\n",
      " [-44.30346404   8.65403265  38.70188973   6.44614701]\n",
      " [-30.95693576   7.02172932  23.12005911   7.0847086 ]]\n",
      "[0.58732143 0.35279618 0.49115464 0.53791775]  with eigen val:  -0.999999999999801\n",
      "[-0.2709694  -0.80982184 -0.0477366  -0.51815575]  with eigen val:  4.000000000000049\n",
      "[0.47406364 0.7720142  0.36128803 0.22074581]  with eigen val:  2.9999999999998512\n",
      "[0.37116425 0.14696456 0.25890557 0.87954899]  with eigen val:  1.9999999999999298\n"
     ]
    }
   ],
   "source": [
    "# matrix generator:\n",
    "\n",
    "# Step 1: Choose real eigenvalues\n",
    "eigenvalues = np.array([2, 3, -1, 4]) \n",
    "P = np.random.rand(4, 4)  # Random 4x4 matrix\n",
    "while np.linalg.det(P) == 0:  # Ensure P is invertible\n",
    "    P = np.random.rand(4, 4)\n",
    "\n",
    "D = np.diag(eigenvalues)\n",
    "A = P @ D @ np.linalg.inv(P)\n",
    "\n",
    "print(\"Generated matrix A:\")\n",
    "print(A)\n",
    "\n",
    "eigvals, eigvecs = np.linalg.eig(A)\n",
    "eigvecs = eigvecs / np.linalg.norm(eigvecs, axis=0).reshape(1, -1)\n",
    "\n",
    "for i in range(4):\n",
    "    print(eigvecs[:,i], \" with eigen val: \", eigvals[i])"
   ],
   "metadata": {
    "collapsed": false,
    "ExecuteTime": {
     "end_time": "2025-03-24T19:40:37.127940Z",
     "start_time": "2025-03-24T19:40:37.121680Z"
    }
   },
   "id": "c7b793ebe3009ccf",
   "execution_count": 39
  },
  {
   "cell_type": "code",
   "outputs": [
    {
     "name": "stdout",
     "output_type": "stream",
     "text": [
      "0-th Eigenvector of A:  [-0.27096924 -0.80982181 -0.04773638 -0.51815591]  E.-value:  4.000000615397149\n",
      "1-th Eigenvector of A:  [-0.50354656 -0.11847192 -0.68598986  0.51168661]  E.-value:  2.9999993849457987\n",
      "2-th Eigenvector of A:  [ 0.30317059 -0.55599343  0.3774485   0.67564157]  E.-value:  1.9999999996570188\n"
     ]
    }
   ],
   "source": [
    "# objective find first n eigenvectors using power iteration\n",
    "A_ = A.copy()\n",
    "first = None\n",
    "eigenvectors = []\n",
    "for j in range(3):\n",
    "    ev = np.random.normal(size=4)\n",
    "    if first is not None:\n",
    "        ev = ev - first * np.inner(ev, first)\n",
    "    ev /= np.linalg.norm(ev)\n",
    "    for i in range(50):\n",
    "        tmp = A_ @ ev\n",
    "        for prev_ev in eigenvectors:\n",
    "            tmp -= prev_ev * np.dot(tmp, prev_ev)\n",
    "        ev /= np.linalg.norm(ev)\n",
    "        ev = tmp / np.linalg.norm(tmp)\n",
    "        if first is not None:\n",
    "            print(np.inner(first, ev))\n",
    "    lam = ev @ (A @ ev)\n",
    "    print(\"{}-th Eigenvector of A: \".format(j), ev, \" E.-value: \",lam)\n",
    "    eigenvectors.append(ev)\n",
    "    # remove ev from A:\n",
    "    tmp = np.outer(ev, A_ @ ev)\n",
    "    A_ = A_ -tmp"
   ],
   "metadata": {
    "collapsed": false,
    "ExecuteTime": {
     "end_time": "2025-03-24T20:16:43.181037Z",
     "start_time": "2025-03-24T20:16:43.173365Z"
    }
   },
   "id": "64a171cb3033551d",
   "execution_count": 52
  },
  {
   "cell_type": "code",
   "outputs": [],
   "source": [
    " "
   ],
   "metadata": {
    "collapsed": false,
    "ExecuteTime": {
     "end_time": "2025-03-24T19:11:44.055128Z",
     "start_time": "2025-03-24T19:11:44.052264Z"
    }
   },
   "id": "75183f3906430749",
   "execution_count": 13
  },
  {
   "cell_type": "code",
   "outputs": [],
   "source": [],
   "metadata": {
    "collapsed": false
   },
   "id": "a0338eba6277d280",
   "execution_count": null
  }
 ],
 "metadata": {
  "kernelspec": {
   "display_name": "Python 3",
   "language": "python",
   "name": "python3"
  },
  "language_info": {
   "codemirror_mode": {
    "name": "ipython",
    "version": 2
   },
   "file_extension": ".py",
   "mimetype": "text/x-python",
   "name": "python",
   "nbconvert_exporter": "python",
   "pygments_lexer": "ipython2",
   "version": "2.7.6"
  }
 },
 "nbformat": 4,
 "nbformat_minor": 5
}
