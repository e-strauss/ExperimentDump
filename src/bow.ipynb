{
 "cells": [
  {
   "cell_type": "code",
   "execution_count": 4,
   "id": "initial_id",
   "metadata": {
    "collapsed": true,
    "ExecuteTime": {
     "end_time": "2024-10-19T18:51:44.820365Z",
     "start_time": "2024-10-19T18:51:44.702917Z"
    }
   },
   "outputs": [
    {
     "name": "stdout",
     "output_type": "stream",
     "text": [
      "Digital_Music_Text.csv  RandRecCol.csv\r\n"
     ]
    }
   ],
   "source": [
    "import numpy as np\n",
    "%ls /Users/eliasstrauss/data/ "
   ]
  },
  {
   "cell_type": "code",
   "outputs": [],
   "source": [
    "import pandas as pd\n",
    "import numpy as np"
   ],
   "metadata": {
    "collapsed": false,
    "ExecuteTime": {
     "end_time": "2024-10-19T18:54:40.409164Z",
     "start_time": "2024-10-19T18:54:40.403331Z"
    }
   },
   "id": "ec21506a70bcb368",
   "execution_count": 15
  },
  {
   "cell_type": "code",
   "outputs": [],
   "source": [
    "from sklearn.feature_extraction.text import CountVectorizer"
   ],
   "metadata": {
    "collapsed": false,
    "ExecuteTime": {
     "end_time": "2024-10-19T18:53:04.729760Z",
     "start_time": "2024-10-19T18:53:04.382865Z"
    }
   },
   "id": "5cc9ed3dda428df8",
   "execution_count": 11
  },
  {
   "cell_type": "code",
   "outputs": [],
   "source": [
    "df = pd.read_csv(\"/Users/eliasstrauss/data/Digital_Music_Text.csv\")\n",
    "df = df.fillna('')\n",
    "array = df.to_numpy().reshape(-1)"
   ],
   "metadata": {
    "collapsed": false,
    "ExecuteTime": {
     "end_time": "2024-10-19T18:57:23.845929Z",
     "start_time": "2024-10-19T18:57:23.411460Z"
    }
   },
   "id": "53085df129ad6907",
   "execution_count": 19
  },
  {
   "cell_type": "code",
   "outputs": [],
   "source": [
    "vectorizer = CountVectorizer(lowercase=True, token_pattern=r'[a-zA-Z]+')"
   ],
   "metadata": {
    "collapsed": false,
    "ExecuteTime": {
     "end_time": "2024-10-19T19:02:32.479871Z",
     "start_time": "2024-10-19T19:02:32.474476Z"
    }
   },
   "id": "ea3ae2cc8ddb133",
   "execution_count": 31
  },
  {
   "cell_type": "code",
   "outputs": [],
   "source": [
    "X = vectorizer.fit_transform(array)"
   ],
   "metadata": {
    "collapsed": false,
    "ExecuteTime": {
     "end_time": "2024-10-19T19:02:35.893294Z",
     "start_time": "2024-10-19T19:02:33.596956Z"
    }
   },
   "id": "2db9a85a0493b6d7",
   "execution_count": 32
  },
  {
   "cell_type": "code",
   "outputs": [
    {
     "data": {
      "text/plain": "(130391, 125408)"
     },
     "execution_count": 33,
     "metadata": {},
     "output_type": "execute_result"
    }
   ],
   "source": [
    "X.shape"
   ],
   "metadata": {
    "collapsed": false,
    "ExecuteTime": {
     "end_time": "2024-10-19T19:02:37.692169Z",
     "start_time": "2024-10-19T19:02:37.686380Z"
    }
   },
   "id": "9766433121c7764a",
   "execution_count": 33
  },
  {
   "cell_type": "code",
   "outputs": [
    {
     "data": {
      "text/plain": "7740406"
     },
     "execution_count": 34,
     "metadata": {},
     "output_type": "execute_result"
    }
   ],
   "source": [
    "X.sum()"
   ],
   "metadata": {
    "collapsed": false,
    "ExecuteTime": {
     "end_time": "2024-10-19T19:03:47.420679Z",
     "start_time": "2024-10-19T19:03:47.398623Z"
    }
   },
   "id": "2ec29267d584f318",
   "execution_count": 34
  },
  {
   "cell_type": "code",
   "outputs": [],
   "source": [],
   "metadata": {
    "collapsed": false
   },
   "id": "44836c2f60f95fcc"
  }
 ],
 "metadata": {
  "kernelspec": {
   "display_name": "Python 3",
   "language": "python",
   "name": "python3"
  },
  "language_info": {
   "codemirror_mode": {
    "name": "ipython",
    "version": 2
   },
   "file_extension": ".py",
   "mimetype": "text/x-python",
   "name": "python",
   "nbconvert_exporter": "python",
   "pygments_lexer": "ipython2",
   "version": "2.7.6"
  }
 },
 "nbformat": 4,
 "nbformat_minor": 5
}
