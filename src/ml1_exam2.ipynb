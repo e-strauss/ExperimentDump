{
 "cells": [
  {
   "cell_type": "code",
   "execution_count": 1,
   "id": "initial_id",
   "metadata": {
    "collapsed": true,
    "ExecuteTime": {
     "end_time": "2025-03-24T10:40:28.251188Z",
     "start_time": "2025-03-24T10:40:28.200464Z"
    }
   },
   "outputs": [],
   "source": ""
  },
  {
   "cell_type": "code",
   "outputs": [],
   "source": [
    "X = np.random.normal(size=(20,2))"
   ],
   "metadata": {
    "collapsed": false,
    "ExecuteTime": {
     "end_time": "2025-03-24T10:41:11.397939Z",
     "start_time": "2025-03-24T10:41:11.388558Z"
    }
   },
   "id": "f14a5ef5922cfcb0",
   "execution_count": 2
  },
  {
   "cell_type": "code",
   "outputs": [],
   "source": [
    "def phi(x):\n",
    "    N,d = x.shape\n",
    "    part1 = np.ones((N,1))\n",
    "    part2 = x\n",
    "    part3 = x**2\n",
    "    print(part1.shape, part2.shape, part3.shape)\n",
    "    return np.hstack((part1,part2,part3))"
   ],
   "metadata": {
    "collapsed": false,
    "ExecuteTime": {
     "end_time": "2025-03-24T10:50:31.167624Z",
     "start_time": "2025-03-24T10:50:31.162813Z"
    }
   },
   "id": "c85154f04157f435",
   "execution_count": 16
  },
  {
   "cell_type": "code",
   "outputs": [
    {
     "name": "stdout",
     "output_type": "stream",
     "text": [
      "(20, 1) (20, 2) (20, 2)\n"
     ]
    },
    {
     "data": {
      "text/plain": "(20, 5)"
     },
     "execution_count": 17,
     "metadata": {},
     "output_type": "execute_result"
    }
   ],
   "source": [
    "phi(X).shape"
   ],
   "metadata": {
    "collapsed": false,
    "ExecuteTime": {
     "end_time": "2025-03-24T10:50:32.196871Z",
     "start_time": "2025-03-24T10:50:32.192278Z"
    }
   },
   "id": "678509bf424cdf68",
   "execution_count": 17
  },
  {
   "cell_type": "code",
   "outputs": [],
   "source": [
    "def train(lam, y):\n",
    "    tmp = phi(X)\n",
    "    return np.linalg.inv(tmp.T @ tmp + lam * np.identity(X.shape[1])) @ tmp.T @ y"
   ],
   "metadata": {
    "collapsed": false,
    "ExecuteTime": {
     "end_time": "2025-03-24T11:21:46.710819Z",
     "start_time": "2025-03-24T11:21:46.708129Z"
    }
   },
   "id": "1f52ab1010174892",
   "execution_count": 18
  },
  {
   "cell_type": "code",
   "outputs": [],
   "source": [],
   "metadata": {
    "collapsed": false
   },
   "id": "535f07c81e728923",
   "execution_count": null
  }
 ],
 "metadata": {
  "kernelspec": {
   "display_name": "Python 3",
   "language": "python",
   "name": "python3"
  },
  "language_info": {
   "codemirror_mode": {
    "name": "ipython",
    "version": 2
   },
   "file_extension": ".py",
   "mimetype": "text/x-python",
   "name": "python",
   "nbconvert_exporter": "python",
   "pygments_lexer": "ipython2",
   "version": "2.7.6"
  }
 },
 "nbformat": 4,
 "nbformat_minor": 5
}
