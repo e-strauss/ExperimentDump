{
 "cells": [
  {
   "cell_type": "code",
   "execution_count": 27,
   "id": "initial_id",
   "metadata": {
    "collapsed": true,
    "ExecuteTime": {
     "end_time": "2024-11-07T16:25:56.507400Z",
     "start_time": "2024-11-07T16:25:56.503638Z"
    }
   },
   "outputs": [],
   "source": [
    "import numpy as np"
   ]
  },
  {
   "cell_type": "code",
   "outputs": [],
   "source": [
    "np.random.seed(7)\n",
    "#A = np.random.rand(4,4)\n",
    "A = np.diag((1, 2, 3))"
   ],
   "metadata": {
    "collapsed": false,
    "ExecuteTime": {
     "end_time": "2024-11-07T16:28:19.100913Z",
     "start_time": "2024-11-07T16:28:19.099220Z"
    }
   },
   "id": "cf4900ddf30d1c04",
   "execution_count": 36
  },
  {
   "cell_type": "code",
   "outputs": [
    {
     "data": {
      "text/plain": "array([[1, 0, 0],\n       [0, 2, 0],\n       [0, 0, 3]])"
     },
     "execution_count": 37,
     "metadata": {},
     "output_type": "execute_result"
    }
   ],
   "source": [
    "A"
   ],
   "metadata": {
    "collapsed": false,
    "ExecuteTime": {
     "end_time": "2024-11-07T16:28:20.102333Z",
     "start_time": "2024-11-07T16:28:20.098367Z"
    }
   },
   "id": "ee0f0f170e24d13d",
   "execution_count": 37
  },
  {
   "cell_type": "code",
   "outputs": [],
   "source": [
    "eigenvalues, eigenvectors = np.linalg.eig(A)"
   ],
   "metadata": {
    "collapsed": false,
    "ExecuteTime": {
     "end_time": "2024-11-07T16:28:21.519738Z",
     "start_time": "2024-11-07T16:28:21.511092Z"
    }
   },
   "id": "5a1e9d3d8fd3160e",
   "execution_count": 38
  },
  {
   "cell_type": "code",
   "outputs": [
    {
     "data": {
      "text/plain": "array([1., 2., 3.])"
     },
     "execution_count": 39,
     "metadata": {},
     "output_type": "execute_result"
    }
   ],
   "source": [
    "eigenvalues"
   ],
   "metadata": {
    "collapsed": false,
    "ExecuteTime": {
     "end_time": "2024-11-07T16:28:22.265133Z",
     "start_time": "2024-11-07T16:28:22.260391Z"
    }
   },
   "id": "a13227e924028ef4",
   "execution_count": 39
  },
  {
   "cell_type": "code",
   "outputs": [
    {
     "data": {
      "text/plain": "array([[1., 0., 0.],\n       [0., 1., 0.],\n       [0., 0., 1.]])"
     },
     "execution_count": 40,
     "metadata": {},
     "output_type": "execute_result"
    }
   ],
   "source": [
    "eigenvectors"
   ],
   "metadata": {
    "collapsed": false,
    "ExecuteTime": {
     "end_time": "2024-11-07T16:28:23.094973Z",
     "start_time": "2024-11-07T16:28:23.091902Z"
    }
   },
   "id": "8ab94e0c2b02c7f3",
   "execution_count": 40
  },
  {
   "cell_type": "code",
   "outputs": [],
   "source": [
    "assert np.allclose(A @ eigenvectors[0], eigenvalues[0] * eigenvectors[0], 1e-4)"
   ],
   "metadata": {
    "collapsed": false,
    "ExecuteTime": {
     "end_time": "2024-11-07T16:28:24.702111Z",
     "start_time": "2024-11-07T16:28:24.698468Z"
    }
   },
   "id": "a51e7d6187b49cd8",
   "execution_count": 41
  },
  {
   "cell_type": "code",
   "outputs": [],
   "source": [
    "A_ = [np.outer(eigenvectors[i], eigenvectors[i])*eigenvalues[i] for i in range(len(eigenvalues))]"
   ],
   "metadata": {
    "collapsed": false,
    "ExecuteTime": {
     "end_time": "2024-11-07T16:30:52.914033Z",
     "start_time": "2024-11-07T16:30:52.908996Z"
    }
   },
   "id": "13d32cdce9cd258b",
   "execution_count": 45
  },
  {
   "cell_type": "code",
   "outputs": [],
   "source": [
    "A__ = np.sum(A_, axis=0)"
   ],
   "metadata": {
    "collapsed": false,
    "ExecuteTime": {
     "end_time": "2024-11-07T16:31:13.210111Z",
     "start_time": "2024-11-07T16:31:13.203522Z"
    }
   },
   "id": "66be90d042b036b7",
   "execution_count": 46
  },
  {
   "cell_type": "code",
   "outputs": [
    {
     "data": {
      "text/plain": "array([[1., 0., 0.],\n       [0., 2., 0.],\n       [0., 0., 3.]])"
     },
     "execution_count": 47,
     "metadata": {},
     "output_type": "execute_result"
    }
   ],
   "source": [
    "A__"
   ],
   "metadata": {
    "collapsed": false,
    "ExecuteTime": {
     "end_time": "2024-11-07T16:31:19.749029Z",
     "start_time": "2024-11-07T16:31:19.744560Z"
    }
   },
   "id": "36f89e4dcab4e5c",
   "execution_count": 47
  },
  {
   "cell_type": "code",
   "outputs": [],
   "source": [],
   "metadata": {
    "collapsed": false
   },
   "id": "7dcc469c13f6456"
  }
 ],
 "metadata": {
  "kernelspec": {
   "display_name": "Python 3",
   "language": "python",
   "name": "python3"
  },
  "language_info": {
   "codemirror_mode": {
    "name": "ipython",
    "version": 2
   },
   "file_extension": ".py",
   "mimetype": "text/x-python",
   "name": "python",
   "nbconvert_exporter": "python",
   "pygments_lexer": "ipython2",
   "version": "2.7.6"
  }
 },
 "nbformat": 4,
 "nbformat_minor": 5
}
